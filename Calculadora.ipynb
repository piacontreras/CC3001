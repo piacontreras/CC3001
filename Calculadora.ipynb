{
  "nbformat": 4,
  "nbformat_minor": 0,
  "metadata": {
    "colab": {
      "name": "Tarea2.ipynb",
      "provenance": [],
      "collapsed_sections": []
    },
    "kernelspec": {
      "name": "python3",
      "display_name": "Python 3"
    }
  },
  "cells": [
    {
      "cell_type": "markdown",
      "metadata": {
        "id": "_02WTSILtIMd",
        "colab_type": "text"
      },
      "source": [
        "##TAREA NÚMERO DOS\n",
        "\n",
        "La tarea consistió en crear una calculadora que realice operaciones como suma, resta, multiplicación, división y potencia, siempre operando de izquierda a derecha, mediante diagramas de estado.\n",
        "\n",
        "Para resolver lo anterior, se fijó la estrategia crear diagramas de estado, desde los más grande, como leer lo que se entrega en el input e identificar la variable, el signo igual y la operación, para poder cambiar de estado y posteriormente operar en ellos. En éste mismo diagrama, se creó un diccionario que permitía guardar las variables como una llave y la operación como un valor de ésta llave, así resultaría más sencillo buscar en él cuando se entregase en la variable una que ya existía y así ocupar su valor.\n",
        "\n",
        "Luego, se creó el diagrama de la operación, es decir, tomaba dos operando de la operación y los opera de acuerdo al operando que encuentra en medio. Para ésto, se creó una función que lee el string de la operacion, si son números, los guarda en una lista, y luego otra función que de una lista pasa a un valor tipo int. Con éstas funciones, se creó otra función que detecta si en la operación hay una variable o un número. Si hay una variable, la busca en el diccionario y si la encuentra, entrega su valor, por otro lado, si encuentra un número, luego de realizar funciones definidas, entrega su valor."
      ]
    },
    {
      "cell_type": "markdown",
      "metadata": {
        "id": "CKNnZy0D1o5B",
        "colab_type": "text"
      },
      "source": [
        "La función largo del str del input a utilizar será:"
      ]
    },
    {
      "cell_type": "code",
      "metadata": {
        "id": "dQ_pHwqU1whc",
        "colab_type": "code",
        "colab": {}
      },
      "source": [
        "def largo(operacion):\n",
        "        if type(operacion) is not list and type(operacion) is not str:\n",
        "            return -1\n",
        "        contador = 0\n",
        "        for elemento in operacion:\n",
        "            contador += 1\n",
        "        return contador"
      ],
      "execution_count": 0,
      "outputs": []
    },
    {
      "cell_type": "markdown",
      "metadata": {
        "id": "PI_eGPo4tScr",
        "colab_type": "text"
      },
      "source": [
        "La primera función que se hizo fue para pasar de \"str\" a lista un número, esto con el fin de poder operar el número posteriormente. "
      ]
    },
    {
      "cell_type": "code",
      "metadata": {
        "id": "YDjAIkoqtxq3",
        "colab_type": "code",
        "colab": {}
      },
      "source": [
        "#de str a lista\n",
        "def str_a_lista(numero):\n",
        "  numero_lista=[]\n",
        "  for i in range(largo(numero)):\n",
        "    if numero[i].isdigit():\n",
        "      numero_lista.append(int(numero[i]))\n",
        "  return numero_lista"
      ],
      "execution_count": 0,
      "outputs": []
    },
    {
      "cell_type": "markdown",
      "metadata": {
        "id": "HgNI-A6quFJq",
        "colab_type": "text"
      },
      "source": [
        "Luego se prodeció con la función que de la lista, transforme a un \"int\" para que así sea posible operar posteriormente"
      ]
    },
    {
      "cell_type": "code",
      "metadata": {
        "id": "KQeoYg1wt-gI",
        "colab_type": "code",
        "colab": {}
      },
      "source": [
        "#lista a numero\n",
        "def lista_a_numero(c):\n",
        "  largo=len(c)\n",
        "  numero=0\n",
        "  for i in range(largo):\n",
        "    numero=numero+c[i]*10**(largo-i-1)\n",
        "    i+=1\n",
        "  return numero"
      ],
      "execution_count": 0,
      "outputs": []
    },
    {
      "cell_type": "markdown",
      "metadata": {
        "id": "0DUVTju-uiXY",
        "colab_type": "text"
      },
      "source": [
        "Se definió la función que opera como una funcion que toma dos operando, es decir el primero y el segundo, y además el operador, y a partir de ello, opera según el operador indicado"
      ]
    },
    {
      "cell_type": "code",
      "metadata": {
        "id": "oaOISj3puaiK",
        "colab_type": "code",
        "colab": {}
      },
      "source": [
        "#operar\n",
        "def operar(operando1,operando2,operador):\n",
        "  if operando2==0 and operador!=\"\":\n",
        "    return \"Error al procesar en \" + operador\n",
        "  elif operando2==0 and operador==\"\":\n",
        "    return operando1\n",
        "  elif operador==\"+\":\n",
        "    return operando1+operando2\n",
        "  elif operador==\"-\":\n",
        "    return operando1-operando2\n",
        "  elif operador==\"*\":\n",
        "    return operando1*operando2\n",
        "  elif operador==\"/\":\n",
        "    return operando1//operando2\n",
        "  elif operador==\"^\":\n",
        "    return operando1**operando2"
      ],
      "execution_count": 0,
      "outputs": []
    },
    {
      "cell_type": "markdown",
      "metadata": {
        "id": "gbhJp5V_vVbm",
        "colab_type": "text"
      },
      "source": [
        "Función que no sólo distinga un número, sino que revise en el diccionario si es que existe el nombre indicado del operando como llave para así poder usar su valor."
      ]
    },
    {
      "cell_type": "code",
      "metadata": {
        "id": "wSk1MYHIvQ12",
        "colab_type": "code",
        "colab": {}
      },
      "source": [
        "#str a variable y buscar que esté en el diccionario\n",
        "def str_a_variable(operando):\n",
        "  if diccionario.get(operando)==None:\n",
        "    return print(\"Error variable indefinida en \" + operando)\n",
        "  #si un operando es distinto de un número entonces buscar el valor en el diccionario\n",
        "  if operando.isdigit()==False:\n",
        "    #busca la llave en el diccionario y devuelve el valor\n",
        "    operando=diccionario.get(operando)\n",
        "  return operando"
      ],
      "execution_count": 0,
      "outputs": []
    },
    {
      "cell_type": "markdown",
      "metadata": {
        "id": "ikes4IrhNnYJ",
        "colab_type": "text"
      },
      "source": [
        "Se creó una función que reconociera si en el operando existe un número, o existe una variable. Si es una variable, y ésta se encuentra en el diccionario, entonces devuelve su valor, si encuentra un número, entonces, lo pasa a lista y luego a número"
      ]
    },
    {
      "cell_type": "code",
      "metadata": {
        "colab_type": "code",
        "id": "NAdqAsDCNZCo",
        "colab": {}
      },
      "source": [
        "\n",
        "def reconocer_numero_o_variable(palabra):\n",
        "  if type(palabra)==int:\n",
        "    return palabra\n",
        "  if palabra==\"\":\n",
        "    return int(0)\n",
        "  if palabra.isdigit():\n",
        "    palabra=str_a_lista(palabra)\n",
        "    palabra=lista_a_numero(palabra)\n",
        "    return palabra\n",
        "  if palabra.isdigit()==False:\n",
        "    return str_a_variable(palabra)\n"
      ],
      "execution_count": 0,
      "outputs": []
    },
    {
      "cell_type": "markdown",
      "metadata": {
        "id": "Ft5Xy7VC0AkE",
        "colab_type": "text"
      },
      "source": [
        "Estando dentro del estado operación, se crea otra función que permita operar lo que se introduce en operacion."
      ]
    },
    {
      "cell_type": "code",
      "metadata": {
        "id": "vpzhFd3FxM9z",
        "colab_type": "code",
        "colab": {}
      },
      "source": [
        "\n",
        "def estado_operacion(b):\n",
        "  operador=\"\"\n",
        "  estado=\"OPERANDO\"\n",
        "  operando_1=\"\"\n",
        "  operando_2=\"\"\n",
        "  for i in range(0,largo(b)):\n",
        "    if estado==\"OPERANDO\":\n",
        "      if b[i]==\" \":\n",
        "        continue\n",
        "      if b[i]!=\"+\" and b[i]!=\"-\" and b[i]!=\"*\" and b[i]!=\"/\" and b[i]!=\"^\":\n",
        "        if operador==\"\":\n",
        "          operando_1=operando_1+b[i]\n",
        "        else:\n",
        "          operando_2=operando_2+b[i]\n",
        "      elif b[i]==\"+\" or b[i]==\"-\" or b[i]==\"*\" or b[i]==\"/\" or b[i]==\"^\":\n",
        "        if operador!=\"\":\n",
        "          operando_1=reconocer_numero_o_variable(operando_1)\n",
        "          operando_2=reconocer_numero_o_variable(operando_2)\n",
        "          operando_1=operar(operando_1,operando_2,operador)\n",
        "          operando_2=\"\"\n",
        "          operador = b[i]\n",
        "        else:\n",
        "          estado=\"OPERANDO\"\n",
        "          operador=b[i]\n",
        "      if i==largo(b)-1:\n",
        "        operando_1=reconocer_numero_o_variable(operando_1)\n",
        "        operando_2=reconocer_numero_o_variable(operando_2)\n",
        "        operando_1=operar(operando_1,operando_2,operador)\n",
        "  return operando_1\n"
      ],
      "execution_count": 0,
      "outputs": []
    },
    {
      "cell_type": "markdown",
      "metadata": {
        "id": "OJJ4eDQY1HX7",
        "colab_type": "text"
      },
      "source": [
        "El diagrama de estado más general queda como, para terminar la operación, escribir salir:"
      ]
    },
    {
      "cell_type": "code",
      "metadata": {
        "id": "Np_AUxnbxPCb",
        "colab_type": "code",
        "colab": {}
      },
      "source": [
        "#partiendo desde el estado más grande, es decir, distinguir entre variable y operador y guardar en diccionario\n",
        "condicion=True\n",
        "diccionario={}\n",
        "while condicion:\n",
        "\n",
        "    operacion=str(input(\"Digame una operacion matemática:\"))\n",
        "    \n",
        "    if operacion==\"salir\":\n",
        "        condicion=False\n",
        "    \n",
        "    #identifica si estamos en el estado variable o en el estado operacion \n",
        "    def definir_estado(operacion,diccionario):\n",
        "      variable_actual= \"\"\n",
        "      operacion_actual=\"\" \n",
        "      estado=\"VARIABLE\"\n",
        "      for k in range(0,largo(operacion)):\n",
        "        if estado==\"VARIABLE\":\n",
        "          if operacion[k].isdigit():\n",
        "            print(\"Error de sintaxis\")\n",
        "          if operacion[k]==\" \":\n",
        "            print (\"Error de sintaxis\")\n",
        "          if operacion[k]!=\"=\":\n",
        "            variable_actual=variable_actual+operacion[k]\n",
        "            estado=\"VARIABLE\"\n",
        "          if operacion[k]==\"=\":\n",
        "            estado=\"OPERACION\"\n",
        "          if k==largo(operacion):\n",
        "            variable_actual=operacion\n",
        "            estado=\"FIN\"\n",
        "            break\n",
        "        if estado==\"OPERACION\": \n",
        "          if operacion[k]!=\"=\":\n",
        "            operacion_actual=operacion_actual+operacion[k]\n",
        "          if k==largo(operacion):\n",
        "            operacion_actual=operacion_actual+operacion[k]\n",
        "            estado=\"FIN\"\n",
        "            break\n",
        "      final_final=estado_operacion(operacion_actual)\n",
        "      diccionario[str(variable_actual)]=final_final\n",
        "      return diccionario\n",
        "    \n",
        "    \n",
        "    diccionario_operaciones=definir_estado(operacion,diccionario)\n",
        "    print(diccionario_operaciones.keys() )\n",
        "    print(diccionario_operaciones.values() )"
      ],
      "execution_count": 0,
      "outputs": []
    },
    {
      "cell_type": "markdown",
      "metadata": {
        "id": "mvAJ2wjHhFHT",
        "colab_type": "text"
      },
      "source": [
        "A modo de conclusión, se puede destacar el aprendizaje de diagramas de estado llevados a código, que ayudó no sólo a ordenar las ideas, sino que también a esquematizarlas. \n",
        "\n",
        "Se pudo implementar una calculadora de operaciones básicas, con funciones que operaban de caracter a caracter para poder obtener lo deseado, si bien, la función no es del todo eficiente, pues lleva ciclos en su definición y además opera de caracter en caracter, se obtiene lo pedido al trabajar con estados dentro de una operacion."
      ]
    }
  ]
}
