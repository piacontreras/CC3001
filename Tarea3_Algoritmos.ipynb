{
  "nbformat": 4,
  "nbformat_minor": 0,
  "metadata": {
    "colab": {
      "name": "Tarea3-Algoritmos.ipynb",
      "provenance": [],
      "collapsed_sections": []
    },
    "kernelspec": {
      "name": "python3",
      "display_name": "Python 3"
    }
  },
  "cells": [
    {
      "cell_type": "markdown",
      "metadata": {
        "id": "QVvSUY2llyCS",
        "colab_type": "text"
      },
      "source": [
        "# Tarea Número Tres\n",
        "\n",
        "El problema consistió en encontrar el máximo dentro de un arreglo unimodal, es decir, tiene un máximo global, y sin máximos locales. Para ello, la función debía recibir un arreglo estrictamente ascendente hasta llegar al máximo, y luego, estrictamente descendente.\n",
        "\n",
        "La estrategia utilizada en la resolución del problema estuvo basada en dividir para reinar, para ello, dado el arreglo, se fue dividiendo en subarreglos donde se tenga la certeza de que dentro de éstos subarreglos, se encuentra el máximo.\n",
        "\n",
        "Cabe destacar, que una vez dividido el arreglo en un subarreglo, se elimina lo que no está dentro del subarreglo, es decir, se crea un nuevo arreglo, a partir del subarreglo.\n",
        "\n",
        "La subdivisión del arreglo se realizó de forma tal que se tenía la posición inicial $i=0$ y la posición final $j=n-1$, y entre éstas dos posiciones, se fijó $K_1$ y $K_2$, a una distancia aproximada de un tercio cada una. La distancia de $1/3$ se fijó para que fuese más eficiente por sobre andar buscando alguna distancia. El arreglo inicial, se dividió en tres partes.\n",
        "\n",
        "Se fijaron tres casos bases, y se procedió por fuerza bruta a buscar en estos valores el máximo. Los tres casos bases son cuando el largo del arreglo es igual a 1, en éste caso el máximo sería el único valor. El segundo caso base es cuando el arreglo es de largo 2, donde el mayor entre éstos dos números sería el máximo. Y finalmente, el tercer caso base, es cuando el largo del arreglo es de tamaño 3, en ellos se busca el máximo valor, y éste valor es el que retorna.\n",
        "\n",
        "La lógica de la subdivisión consistió en comparar los valores del arreglo que se encontraba al estar en la posición $K_1$ y $K_2$. Así, si el valor del arreglo en la posición $K_1$ era mayor que el valor del arreglo en la posición $K_2$, entonces se elimina el último tercio del arreglo. Si el valor del arreglo en la posición $K_1$ es menor que el valor del arreglo en la posición $K_2$, se elimina el primer tercio del arreglo. Y, si el valor del arreglo en la posición de $K_1$ es igual al valor del arreglo en la posición $K_2$, entonces sólo queda el tercio del medio del arreglo, es decir, se elimina el primer tercio y el último tercio. Ésto debido a que el arreglo hasta llegar al máximo es estrictamente creciente y luego, estrictamente decreciente."
      ]
    },
    {
      "cell_type": "code",
      "metadata": {
        "id": "5rOwpN4BlALQ",
        "colab_type": "code",
        "colab": {}
      },
      "source": [
        "import numpy as np\n",
        "\n",
        "def moda(a):\n",
        "  #busco en un subarreglo de a[i],...,a[j]\n",
        "  def moda_rec(a,i,j):\n",
        "    #tengo 3 casos base, largo del arreglo=1\n",
        "    if len(a)==1:\n",
        "      return print(\"El máximo es:\", a[0])\n",
        "      #largo del arreglo=2\n",
        "    if len(a)==2:\n",
        "      if a[0]>a[1]:\n",
        "        return print(\"El maximo es:\",a[0])\n",
        "      else:\n",
        "        return print(\"El maximo es:\",a[1])\n",
        "      #largo del arreglo=3\n",
        "    if len(a)==3:\n",
        "      if a[0]>a[1] and a[0]>a[2]:\n",
        "        return print(\"El maximo es:\",a[0])\n",
        "      if a[1]>a[0] and a[1]>a[2]:\n",
        "        return print(\"El maximo es:\",a[1])\n",
        "      if a[2]>a[0] and a[2]>a[1]:\n",
        "        return print(\"El maximo es:\",a[2])\n",
        "    k1=(len(a))//3\n",
        "    k2=2*(len(a))//3    \n",
        "    if len(a)>3:\n",
        "      #se elimina el primer tercio\n",
        "      if a[k1]<a[k2]:\n",
        "        a=a[k1:j]\n",
        "        k1=(len(a))//3\n",
        "        k2=len(a)*2//3\n",
        "        return moda_rec(a,k1,j)\n",
        "      #se elimina el primer y el ultimo tercio\n",
        "      elif a[k1]==a[k2]:\n",
        "        a=a[k1:k2]\n",
        "        k1=(len(a))//3\n",
        "        k2=2*(len(a))//3\n",
        "        return moda_rec(a,k1,k2)\n",
        "      else: #se elimina el ultimo tercio\n",
        "        a=a[i:k2]\n",
        "        k1=(len(a))//3\n",
        "        k2=2*(len(a))//3\n",
        "        return moda_rec(a,i,k2)\n",
        "  n=len(a)\n",
        "  return moda_rec(a,0,n-1)    "
      ],
      "execution_count": 0,
      "outputs": []
    },
    {
      "cell_type": "code",
      "metadata": {
        "id": "2mKvQtCGmkDV",
        "colab_type": "code",
        "outputId": "7a1e1a39-763a-4c16-8229-4c3e88680e0c",
        "colab": {
          "base_uri": "https://localhost:8080/",
          "height": 51
        }
      },
      "source": [
        "a=np.array([12,18,23,31,37,62,78,71,60,55,43,40,35,31,26,21,20,15])\n",
        "print(moda(a))"
      ],
      "execution_count": 0,
      "outputs": [
        {
          "output_type": "stream",
          "text": [
            "El maximo es: 78\n",
            "None\n"
          ],
          "name": "stdout"
        }
      ]
    },
    {
      "cell_type": "code",
      "metadata": {
        "id": "XkcFrFEEHoWS",
        "colab_type": "code",
        "outputId": "9a7f7033-5f83-4b3f-a1aa-d8577989d88e",
        "colab": {
          "base_uri": "https://localhost:8080/",
          "height": 51
        }
      },
      "source": [
        "b=np.array([10,74,56,22])\n",
        "print(moda(b))"
      ],
      "execution_count": 0,
      "outputs": [
        {
          "output_type": "stream",
          "text": [
            "El maximo es: 74\n",
            "None\n"
          ],
          "name": "stdout"
        }
      ]
    },
    {
      "cell_type": "code",
      "metadata": {
        "id": "eaLg8osvHxf-",
        "colab_type": "code",
        "outputId": "f936d9c0-54cb-47e9-acde-f0a1f0680e40",
        "colab": {
          "base_uri": "https://localhost:8080/",
          "height": 51
        }
      },
      "source": [
        "c=np.array([12,45,20])\n",
        "print(moda(c))"
      ],
      "execution_count": 0,
      "outputs": [
        {
          "output_type": "stream",
          "text": [
            "El maximo es: 45\n",
            "None\n"
          ],
          "name": "stdout"
        }
      ]
    },
    {
      "cell_type": "code",
      "metadata": {
        "id": "OHDKdnGyH4ET",
        "colab_type": "code",
        "outputId": "dc668b74-e879-408d-ce84-a343a77c4e85",
        "colab": {
          "base_uri": "https://localhost:8080/",
          "height": 51
        }
      },
      "source": [
        "d=np.array([42])\n",
        "print(moda(d))"
      ],
      "execution_count": 0,
      "outputs": [
        {
          "output_type": "stream",
          "text": [
            "El máximo es: 42\n",
            "None\n"
          ],
          "name": "stdout"
        }
      ]
    },
    {
      "cell_type": "code",
      "metadata": {
        "id": "ntkfL3UIH9nw",
        "colab_type": "code",
        "outputId": "d990d454-e9ee-43b7-bbf9-f2f78a2f7b5c",
        "colab": {
          "base_uri": "https://localhost:8080/",
          "height": 51
        }
      },
      "source": [
        "e=np.array([23,76])\n",
        "print(moda(e))"
      ],
      "execution_count": 0,
      "outputs": [
        {
          "output_type": "stream",
          "text": [
            "El maximo es: 76\n",
            "None\n"
          ],
          "name": "stdout"
        }
      ]
    },
    {
      "cell_type": "code",
      "metadata": {
        "id": "55lM82MmIGIm",
        "colab_type": "code",
        "outputId": "87fdd3a1-9863-46b5-aaac-d29020b047eb",
        "colab": {
          "base_uri": "https://localhost:8080/",
          "height": 51
        }
      },
      "source": [
        "f=np.array([10,9,8,7,6,5,4,3,2,1])\n",
        "print(moda(f))"
      ],
      "execution_count": 0,
      "outputs": [
        {
          "output_type": "stream",
          "text": [
            "El maximo es: 10\n",
            "None\n"
          ],
          "name": "stdout"
        }
      ]
    },
    {
      "cell_type": "code",
      "metadata": {
        "id": "4MYY_CAQIO3y",
        "colab_type": "code",
        "colab": {}
      },
      "source": [
        "#se puede ver que se cumple para todos los casos del enunciado"
      ],
      "execution_count": 0,
      "outputs": []
    },
    {
      "cell_type": "markdown",
      "metadata": {
        "id": "Vs9SbDPKTHsE",
        "colab_type": "text"
      },
      "source": [
        "La ecuación de recurrencia está dada por:\n",
        "\n",
        "$F_{1}$=a[0]\n",
        "\n",
        "$F_2$=max{${a[0], a[1]}$}\n",
        "\n",
        "$F_3$=max{$a[0], a[1], a[2]$}\n",
        "\n",
        "Para T(n) se tiene la siguiente fórmula:\n",
        "\n",
        "T(n)=a * T($n/b$) + f(n)\n",
        "\n",
        "donde:\n",
        "\n",
        "n= tamaño del problema\n",
        "\n",
        "a=subproblemas de la recursión, en éste caso $a=3$\n",
        "\n",
        "$n/b$ = tamaño de cada subproblema, en este caso $b=3/2$\n",
        "\n",
        "f(n)= costo fuera de los llamados recursivos, en éste caso $f(n)=n/3$\n",
        "\n",
        "Luego calculando con éstos valores se tiene que:\n",
        "\n",
        "f(n)=O($n^c$ $log^k$ n) donde k=0 y c=1\n",
        "\n",
        "Luego, $log_b$$a$ = $log_{3/2}3$ = 2.709 > c\n",
        "\n",
        "Por lo tanto, T(n)= O($n^{log_{b}a}$)\n",
        "\n",
        "Esto implica finalmente que $T(n) = O(n^{2.709})$\n",
        "\n",
        "Tener un tiempo de $O(n^{2.709})$ hace que éste algoritmo sea muy ineficiente, ya que es un tiempo cercano a $O(n^3)$."
      ]
    },
    {
      "cell_type": "code",
      "metadata": {
        "id": "0jFWhSSxcI1A",
        "colab_type": "code",
        "colab": {}
      },
      "source": [
        ""
      ],
      "execution_count": 0,
      "outputs": []
    }
  ]
}