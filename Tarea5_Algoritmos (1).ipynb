{
  "nbformat": 4,
  "nbformat_minor": 0,
  "metadata": {
    "kernelspec": {
      "display_name": "Python 3",
      "language": "python",
      "name": "python3"
    },
    "language_info": {
      "codemirror_mode": {
        "name": "ipython",
        "version": 3
      },
      "file_extension": ".py",
      "mimetype": "text/x-python",
      "name": "python",
      "nbconvert_exporter": "python",
      "pygments_lexer": "ipython3",
      "version": "3.7.1"
    },
    "colab": {
      "name": "Tarea5-Algoritmos.ipynb",
      "provenance": [],
      "collapsed_sections": []
    }
  },
  "cells": [
    {
      "cell_type": "markdown",
      "metadata": {
        "id": "qR6cOXGX_I6Y",
        "colab_type": "text"
      },
      "source": [
        "# CC3001 Otoño 2020 Tarea 5\n",
        "# Simulación con Colas y Colas de Prioridad\n",
        "\n",
        "Profesores: Sección 1 Patricio Poblete / Sección 2 Nelson Baloian\n",
        "\n",
        "Plazo: Lunes 22 de junio de 2020 a las 23:59\n",
        "\n",
        "Estudiante: Pía Contreras Guerrero"
      ]
    },
    {
      "cell_type": "markdown",
      "metadata": {
        "id": "A3_YopHsxvjE",
        "colab_type": "text"
      },
      "source": [
        "# A lo que se quiere llegar P1"
      ]
    },
    {
      "cell_type": "code",
      "metadata": {
        "id": "pQdaEcML_I6i",
        "colab_type": "code",
        "colab": {}
      },
      "source": [
        "import numpy as np\n",
        "class Cola:\n",
        "    def __init__(self):\n",
        "        self.q=[]\n",
        "    def enq(self,x): #encolar, meter x a la cola\n",
        "        self.q.insert(0,x)\n",
        "    def deq(self): #saca el primer elemento de la cola\n",
        "        assert len(self.q)>0\n",
        "        return self.q.pop()\n",
        "    def is_empty(self): #ve si la cola está vacía\n",
        "        return len(self.q)==0\n",
        "    def size(self): #tamaño de la cola\n",
        "        return len(self.q)\n",
        "\n",
        "def print_list(L):\n",
        "    for x in L:\n",
        "        print(x)\n",
        "\n",
        "def simula(maxclientes,ta,ts,debug=False):\n",
        "    # simula el paso de maxclientes clientes por el sistema,\n",
        "    # ta = tiempo promedio entre llegadas (arrivals)\n",
        "    # ts = tiempo promedio de servicio\n",
        "    # maxclientes = número maximo de clientes para la simulacion\n",
        "    # debug = True => genera bitácora y usa secuencia aleatoria reproducible\n",
        "    # retorna (largo promedio de la cola, tiempo promedio en el sistema)\n",
        "\n",
        "    if debug:\n",
        "        np.random.seed(1234)\n",
        "    ahora=0 # tiempo simulado\n",
        "    nclientes=0 # número de clientes que han llegado\n",
        "    c=Cola()\n",
        "    evento_llegada=np.random.exponential(ta)\n",
        "    evento_salida=None\n",
        "    acum_largo_cola=0 # acumula largo de la cola para sacar promedio al final\n",
        "    acum_tiempo_en_sistema=0 # acumula tiempos en el sistema para sacar promedio al final\n",
        "    bitacora=[] # En caso que se pida debug\n",
        "    \n",
        "    while evento_llegada is not None or evento_salida is not None:\n",
        "        # Ver si el próximo evento que toca que ocurra es la llegada o la salida de un cliente\n",
        "        if (evento_salida is None) or (evento_llegada is not None and (evento_llegada<=evento_salida)):\n",
        "            # Llega un cliente, avanzamos el tiempo simulado a la hora en que llega\n",
        "            ahora=evento_llegada\n",
        "            nclientes+=1\n",
        "            \n",
        "            if debug:\n",
        "                bitacora.append(\"T=\"+str(ahora)+\n",
        "                                \" evento_llegada=\"+str(evento_llegada)+\" evento_salida=\"+str(evento_salida)+\n",
        "                                \" => LLEGADA\"+\n",
        "                                \"\\n\\tcola=\"+str(c.q))\n",
        "            # El cliente que acaba de llegar se pone a la cola\n",
        "            c.enq(ahora) # Basta anotar su hora de llegada\n",
        "            acum_largo_cola+=c.size()\n",
        "            \n",
        "            if c.size()==1: # la cola estaba vacía, lo empezamos a atender de inmediato\n",
        "                evento_salida=ahora+np.random.exponential(ts) # programamos su hora de salida\n",
        "            \n",
        "            if nclientes<maxclientes: # programamos la hora de llegada del siguiente cliente\n",
        "                evento_llegada=ahora+np.random.exponential(ta)\n",
        "            else:\n",
        "                evento_llegada=None\n",
        "        else:               \n",
        "            # Termina de atenderse un cliente, avanzamos el tiempo simulado a la hora en que sale\n",
        "            ahora=evento_salida\n",
        "            if debug:\n",
        "                bitacora.append(\"T=\"+str(ahora)+\n",
        "                                \" evento_llegada=\"+str(evento_llegada)+\" evento_salida=\"+str(evento_salida)+\n",
        "                                \" => SALIDA\"+\n",
        "                                \"\\n\\tcola=\"+str(c.q))\n",
        "            tllegada=c.deq() # sacamos al cliente de la cola\n",
        "            acum_tiempo_en_sistema+=(ahora-tllegada)\n",
        "            \n",
        "            if c.is_empty(): # no hay nadie en la cola\n",
        "                evento_salida=None\n",
        "            else: # Hay un cliente esperando, empezamos a atenderlo\n",
        "                evento_salida=ahora+np.random.exponential(ts) # programamos su hora de salida\n",
        "    \n",
        "    return (acum_largo_cola/maxclientes,acum_tiempo_en_sistema/maxclientes,bitacora)           "
      ],
      "execution_count": 48,
      "outputs": []
    },
    {
      "cell_type": "code",
      "metadata": {
        "id": "xV5bLtjo_I6p",
        "colab_type": "code",
        "colab": {
          "base_uri": "https://localhost:8080/",
          "height": 34
        },
        "outputId": "7331f317-197c-4fc5-840e-2ddb1342e44b"
      },
      "source": [
        "(cola,demora,bitacora)=simula(10,100,75,debug=True)\n",
        "print(\"Largo promedio de la cola=\",cola,\" Tiempo promedio en el sistema=\",demora)"
      ],
      "execution_count": 49,
      "outputs": [
        {
          "output_type": "stream",
          "text": [
            "Largo promedio de la cola= 1.9  Tiempo promedio en el sistema= 138.02762271192722\n"
          ],
          "name": "stdout"
        }
      ]
    },
    {
      "cell_type": "code",
      "metadata": {
        "id": "qdfsh7AM_I6v",
        "colab_type": "code",
        "colab": {
          "base_uri": "https://localhost:8080/",
          "height": 697
        },
        "outputId": "a60207f0-8aae-4dba-c25a-9fbbbb8df8a5"
      },
      "source": [
        "print_list(bitacora)"
      ],
      "execution_count": 50,
      "outputs": [
        {
          "output_type": "stream",
          "text": [
            "T=21.25986576184801 evento_llegada=21.25986576184801 evento_salida=None => LLEGADA\n",
            "\tcola=[]\n",
            "T=78.83677538497456 evento_llegada=78.83677538497456 evento_salida=94.24603167524747 => LLEGADA\n",
            "\tcola=[21.25986576184801]\n",
            "T=94.24603167524747 evento_llegada=232.71542283099382 evento_salida=94.24603167524747 => SALIDA\n",
            "\tcola=[78.83677538497456, 21.25986576184801]\n",
            "T=207.7973648436669 evento_llegada=232.71542283099382 evento_salida=207.7973648436669 => SALIDA\n",
            "\tcola=[78.83677538497456]\n",
            "T=232.71542283099382 evento_llegada=232.71542283099382 evento_salida=None => LLEGADA\n",
            "\tcola=[]\n",
            "T=256.5855663702635 evento_llegada=265.07595569718336 evento_salida=256.5855663702635 => SALIDA\n",
            "\tcola=[232.71542283099382]\n",
            "T=265.07595569718336 evento_llegada=265.07595569718336 evento_salida=None => LLEGADA\n",
            "\tcola=[]\n",
            "T=386.489172340086 evento_llegada=582.4168679105603 evento_salida=386.489172340086 => SALIDA\n",
            "\tcola=[265.07595569718336]\n",
            "T=582.4168679105603 evento_llegada=582.4168679105603 evento_salida=None => LLEGADA\n",
            "\tcola=[]\n",
            "T=626.7051068662289 evento_llegada=626.7051068662289 evento_salida=738.9366623619304 => LLEGADA\n",
            "\tcola=[582.4168679105603]\n",
            "T=696.2190483450556 evento_llegada=696.2190483450556 evento_salida=738.9366623619304 => LLEGADA\n",
            "\tcola=[626.7051068662289, 582.4168679105603]\n",
            "T=738.9366623619304 evento_llegada=811.2505419244258 evento_salida=738.9366623619304 => SALIDA\n",
            "\tcola=[696.2190483450556, 626.7051068662289, 582.4168679105603]\n",
            "T=811.2505419244258 evento_llegada=811.2505419244258 evento_salida=832.4793149848136 => LLEGADA\n",
            "\tcola=[696.2190483450556, 626.7051068662289]\n",
            "T=832.4793149848136 evento_llegada=857.4938981550002 evento_salida=832.4793149848136 => SALIDA\n",
            "\tcola=[811.2505419244258, 696.2190483450556, 626.7051068662289]\n",
            "T=857.4938981550002 evento_llegada=857.4938981550002 evento_salida=894.2570294009206 => LLEGADA\n",
            "\tcola=[811.2505419244258, 696.2190483450556]\n",
            "T=894.2570294009206 evento_llegada=927.427158306087 evento_salida=894.2570294009206 => SALIDA\n",
            "\tcola=[857.4938981550002, 811.2505419244258, 696.2190483450556]\n",
            "T=895.296837936396 evento_llegada=927.427158306087 evento_salida=895.296837936396 => SALIDA\n",
            "\tcola=[857.4938981550002, 811.2505419244258]\n",
            "T=927.427158306087 evento_llegada=927.427158306087 evento_salida=1006.4499708056504 => LLEGADA\n",
            "\tcola=[857.4938981550002]\n",
            "T=1006.4499708056504 evento_llegada=None evento_salida=1006.4499708056504 => SALIDA\n",
            "\tcola=[927.427158306087, 857.4938981550002]\n",
            "T=1167.1389175826548 evento_llegada=None evento_salida=1167.1389175826548 => SALIDA\n",
            "\tcola=[927.427158306087]\n"
          ],
          "name": "stdout"
        }
      ]
    },
    {
      "cell_type": "markdown",
      "metadata": {
        "id": "4RX6EIbo_I6y",
        "colab_type": "text"
      },
      "source": [
        "## Lo que usted tiene que hacer"
      ]
    },
    {
      "cell_type": "markdown",
      "metadata": {
        "id": "7PVZ1Smo_I6z",
        "colab_type": "text"
      },
      "source": [
        "### 1. Mejorar este programa introduciendo una cola de prioridad\n",
        "\n"
      ]
    },
    {
      "cell_type": "code",
      "metadata": {
        "id": "63S9zrPeWQYw",
        "colab_type": "code",
        "colab": {}
      },
      "source": [
        "import numpy as np\n",
        "def trepar(a,j): # El elemento a[j] trepa hasta su nivel de prioridad \n",
        "    while j>=1 and a[j][0]<a[(j-1)//2][0]: #compara elemento 0 de la tupla, que es el tiempo, pero mueve la tupla completa\n",
        "        (a[j],a[(j-1)//2])=(a[(j-1)//2],a[j]) # intercambiamos con el padre\n",
        "        j=(j-1)//2 # subimos al lugar del padre\n",
        "        \n",
        "def hundir(a,j,n): # El elemento a[j] se hunde hasta su nivel de prioridad\n",
        "    while 2*j+1<n: # mientras tenga al menos 1 hijo\n",
        "        k=2*j+1 # el hijo izquierdo\n",
        "        if k+1<n and a[k+1][0]<a[k][0]: # el hijo derecho existe y es menor\n",
        "            k+=1\n",
        "        if a[j][0]<=a[k][0]: # tiene mejor prioridad que ambos hijos\n",
        "            break\n",
        "        (a[j],a[k])=(a[k],a[j]) # se intercambia con el menor de los hijos\n",
        "        j=k # bajamos al lugar del menor de los hijos\n",
        "    \n",
        "class Heap:\n",
        "    def __init__(self,maxn=100):\n",
        "        self.a=np.zeros(maxn, dtype=\"object\")\n",
        "        self.n=0\n",
        "    def insert(self,x):\n",
        "        assert self.n<len(self.a)\n",
        "        self.a[self.n]=x    \n",
        "        trepar(self.a,self.n)\n",
        "        self.n+=1       \n",
        "    def extract_min(self):\n",
        "        x=self.a[0] # esta variable lleva el mínimo, el casillero 0 queda vacante\n",
        "        self.n-=1   # achicamos el heap\n",
        "        self.a[0]=self.a[self.n] # movemos el elemento sobrante hacia el casillero vacante\n",
        "        hundir(self.a,0,self.n)\n",
        "        return x\n",
        "    def imprimir(self):\n",
        "        print(self.a[0:self.n])\n",
        "    def size(self): #tamaño de la cola\n",
        "        return self.n\n",
        "    def is_empty(self):\n",
        "        return self.a is None\n",
        "\n",
        "class Cola:\n",
        "    def __init__(self):\n",
        "        self.q=[]\n",
        "    def enq(self,x):\n",
        "        self.q.insert(0,x)\n",
        "    def deq(self):\n",
        "        assert len(self.q)>0\n",
        "        return self.q.pop()\n",
        "    def is_empty(self):\n",
        "        return len(self.q)==0\n",
        "    def size(self):\n",
        "        return len(self.q)"
      ],
      "execution_count": 51,
      "outputs": []
    },
    {
      "cell_type": "code",
      "metadata": {
        "id": "fXlQPfhsWWGj",
        "colab_type": "code",
        "colab": {}
      },
      "source": [
        "def print_list(L):\n",
        "    for x in L:\n",
        "        print(x)\n",
        "\n",
        "def simula(maxclientes,ta,ts,debug=False):\n",
        "    # simula el paso de maxclientes clientes por el sistema,\n",
        "    # ta = tiempo promedio entre llegadas (arrivals)\n",
        "    # ts = tiempo promedio de servicio\n",
        "    # maxclientes = número maximo de clientes para la simulacion\n",
        "    # debug = True => genera bitácora y usa secuencia aleatoria reproducible\n",
        "    # retorna (largo promedio de la cola, tiempo promedio en el sistema)\n",
        "\n",
        "    if debug:\n",
        "        np.random.seed(1234)\n",
        "    ahora=0 # tiempo simulado\n",
        "    nclientes=0 # número de clientes que han llegado\n",
        "    H=Heap(maxclientes)\n",
        "    c=Cola()\n",
        "    acum_largo_cola=0 # acumula largo de la cola para sacar promedio al final\n",
        "    acum_tiempo_en_sistema=0 # acumula tiempos en el sistema para sacar promedio al final\n",
        "    bitacora=[] # En caso que se pida debug\n",
        "\n",
        "    #tal como dice la sugerencia, se inserta el primer evento en el Heap\n",
        "    tipo_evento=\"evento_llegada\" #el primer evento es evento llegada\n",
        "    tiempo_evento=np.random.exponential(ta) #su tiempo correspondiente es t_a\n",
        "\n",
        "    H.insert((tiempo_evento,tipo_evento)) #inserta el primer elemento\n",
        "\n",
        "    while tipo_evento is not None: #se ve que la variable tipo_evento sea distinto a None en cada iteración\n",
        "\n",
        "        evento=H.extract_min() #se saca el primer elemento y se procesa, como es una tupla\n",
        "        tiempo_evento=evento[0] #el primer valor es el tiempo\n",
        "        tipo_evento=evento[1] #el segundo valor es el tipo evento\n",
        "\n",
        "        # Ver si el próximo evento que toca que ocurra es la llegada o la salida de un cliente\n",
        "        if tipo_evento==\"evento_llegada\":\n",
        "            ahora=tiempo_evento\n",
        "            # Llega un cliente, avanzamos el tiempo simulado a la hora en que llega\n",
        "            nclientes+=1\n",
        "            \n",
        "            if debug:\n",
        "                bitacora.append(\"T=\"+str(ahora)+\n",
        "                                \" Tiempo=\"+str(tiempo_evento)+\" Tipo evento=\"+str(tipo_evento)+\n",
        "                                \" => LLEGADA\"+\n",
        "                                \"\\n\\tcola=\"+str(c.q))\n",
        "            # El cliente que acaba de llegar se pone a la cola\n",
        "            c.enq(tiempo_evento) #basta con anotar su hora de llegada\n",
        "            acum_largo_cola+=c.size()\n",
        "            if c.size()==1: # la cola estaba vacía, lo empezamos a atender de inmediato\n",
        "                tipo_evento=\"evento_salida\" #comienza evento salida\n",
        "                tiempo_evento=ahora+np.random.exponential(ts) #su tiempo correspondiente\n",
        "                H.insert((tiempo_evento,tipo_evento)) #se inserta en el Heap\n",
        "            if nclientes<maxclientes: # programamos la hora de llegada del siguiente cliente\n",
        "                tipo_evento=\"evento_llegada\" #definimos el evento\n",
        "                tiempo_evento=ahora+np.random.exponential(ta) #y su hora correspondiente\n",
        "                H.insert((tiempo_evento,tipo_evento)) #se inserta en el Heap\n",
        "            if c.is_empty(): #si la cola está vacía entonces el tipo de evento es None\n",
        "                tipo_evento=None \n",
        "        else:               \n",
        "            # Termina de atenderse un cliente, avanzamos el tiempo simulado a la hora en que sale\n",
        "            ahora=tiempo_evento\n",
        "            if debug:\n",
        "                bitacora.append(\"T=\"+str(tiempo_evento)+\n",
        "                                \" Tiempo=\"+str(tiempo_evento)+\" Tipo evento=\"+str(tipo_evento)+\n",
        "                                \" => SALIDA\"+\n",
        "                                \"\\n\\tcola=\"+str(c.q))\n",
        "            tllegada=c.deq() # sacamos al cliente de la cola\n",
        "            \n",
        "            acum_tiempo_en_sistema+=(ahora-tllegada)\n",
        "            if c.is_empty(): # no hay nadie en la cola\n",
        "                if nclientes==maxclientes: #si el numero de clientes es igual a maxclientes\n",
        "                  tipo_evento=None #se define el evento como None\n",
        "                else: #en cualquier otro caso\n",
        "                 tipo_evento=\"evento_llegada\"  #se define el evento como evento llegada\n",
        "            else: # Hay un cliente esperando, empezamos a atenderlo\n",
        "                tipo_evento=\"evento_salida\" #se genera evento salida\n",
        "                tiempo_evento=ahora+np.random.exponential(ts) #y se le asocia su tiempo correspondiente\n",
        "                H.insert((tiempo_evento,tipo_evento))\n",
        "    \n",
        "    return (acum_largo_cola/maxclientes,acum_tiempo_en_sistema/maxclientes,bitacora)"
      ],
      "execution_count": 52,
      "outputs": []
    },
    {
      "cell_type": "code",
      "metadata": {
        "id": "z4F8_eqgWfiK",
        "colab_type": "code",
        "colab": {
          "base_uri": "https://localhost:8080/",
          "height": 34
        },
        "outputId": "1fe14a29-f84e-4982-e23c-40de2c56819f"
      },
      "source": [
        "(cola,demora,bitacora)=simula(10,100,75,debug=True)\n",
        "print(\"Largo promedio de la cola=\",cola,\" Tiempo promedio en el sistema=\",demora)"
      ],
      "execution_count": 53,
      "outputs": [
        {
          "output_type": "stream",
          "text": [
            "Largo promedio de la cola= 1.9  Tiempo promedio en el sistema= 138.02762271192722\n"
          ],
          "name": "stdout"
        }
      ]
    },
    {
      "cell_type": "code",
      "metadata": {
        "id": "gb1t7MuqWisO",
        "colab_type": "code",
        "colab": {
          "base_uri": "https://localhost:8080/",
          "height": 697
        },
        "outputId": "813a98c3-8ebe-4af8-cef9-565d3facaaa9"
      },
      "source": [
        "print_list(bitacora)"
      ],
      "execution_count": 54,
      "outputs": [
        {
          "output_type": "stream",
          "text": [
            "T=21.25986576184801 Tiempo=21.25986576184801 Tipo evento=evento_llegada => LLEGADA\n",
            "\tcola=[]\n",
            "T=78.83677538497456 Tiempo=78.83677538497456 Tipo evento=evento_llegada => LLEGADA\n",
            "\tcola=[21.25986576184801]\n",
            "T=94.24603167524747 Tiempo=94.24603167524747 Tipo evento=evento_salida => SALIDA\n",
            "\tcola=[78.83677538497456, 21.25986576184801]\n",
            "T=207.7973648436669 Tiempo=207.7973648436669 Tipo evento=evento_salida => SALIDA\n",
            "\tcola=[78.83677538497456]\n",
            "T=232.71542283099382 Tiempo=232.71542283099382 Tipo evento=evento_llegada => LLEGADA\n",
            "\tcola=[]\n",
            "T=256.5855663702635 Tiempo=256.5855663702635 Tipo evento=evento_salida => SALIDA\n",
            "\tcola=[232.71542283099382]\n",
            "T=265.07595569718336 Tiempo=265.07595569718336 Tipo evento=evento_llegada => LLEGADA\n",
            "\tcola=[]\n",
            "T=386.489172340086 Tiempo=386.489172340086 Tipo evento=evento_salida => SALIDA\n",
            "\tcola=[265.07595569718336]\n",
            "T=582.4168679105603 Tiempo=582.4168679105603 Tipo evento=evento_llegada => LLEGADA\n",
            "\tcola=[]\n",
            "T=626.7051068662289 Tiempo=626.7051068662289 Tipo evento=evento_llegada => LLEGADA\n",
            "\tcola=[582.4168679105603]\n",
            "T=696.2190483450556 Tiempo=696.2190483450556 Tipo evento=evento_llegada => LLEGADA\n",
            "\tcola=[626.7051068662289, 582.4168679105603]\n",
            "T=738.9366623619304 Tiempo=738.9366623619304 Tipo evento=evento_salida => SALIDA\n",
            "\tcola=[696.2190483450556, 626.7051068662289, 582.4168679105603]\n",
            "T=811.2505419244258 Tiempo=811.2505419244258 Tipo evento=evento_llegada => LLEGADA\n",
            "\tcola=[696.2190483450556, 626.7051068662289]\n",
            "T=832.4793149848136 Tiempo=832.4793149848136 Tipo evento=evento_salida => SALIDA\n",
            "\tcola=[811.2505419244258, 696.2190483450556, 626.7051068662289]\n",
            "T=857.4938981550002 Tiempo=857.4938981550002 Tipo evento=evento_llegada => LLEGADA\n",
            "\tcola=[811.2505419244258, 696.2190483450556]\n",
            "T=894.2570294009206 Tiempo=894.2570294009206 Tipo evento=evento_salida => SALIDA\n",
            "\tcola=[857.4938981550002, 811.2505419244258, 696.2190483450556]\n",
            "T=895.296837936396 Tiempo=895.296837936396 Tipo evento=evento_salida => SALIDA\n",
            "\tcola=[857.4938981550002, 811.2505419244258]\n",
            "T=927.427158306087 Tiempo=927.427158306087 Tipo evento=evento_llegada => LLEGADA\n",
            "\tcola=[857.4938981550002]\n",
            "T=1006.4499708056504 Tiempo=1006.4499708056504 Tipo evento=evento_salida => SALIDA\n",
            "\tcola=[927.427158306087, 857.4938981550002]\n",
            "T=1167.1389175826548 Tiempo=1167.1389175826548 Tipo evento=evento_salida => SALIDA\n",
            "\tcola=[927.427158306087]\n"
          ],
          "name": "stdout"
        }
      ]
    },
    {
      "cell_type": "markdown",
      "metadata": {
        "id": "eYcBpKuwW31R",
        "colab_type": "text"
      },
      "source": [
        "# Explicación P1\n",
        "\n",
        "La parte 1 de la tarea corresponde a cambiar un poco la estructura dada usando un Heap.\n",
        "\n",
        "En un principio se trató de modificar el programa de tal manera que sólo aceptara el Heap, es decir, sin tomar en cuenta la cola, lo cual no se logró por lo que se tuvo que optar por implementar el Heap y la cola, ambas estructuras juntas.\n",
        "\n",
        "En primer lugar se modificó las estrucutras trepar y hundir, de tal manera que se obtuviese como mejor prioridad el menor tiempo posible. La función trepar se modificó  $a[j][0]<a[(j-1)//2][0]$ que en un principio la comparación era que $a[j]>a[(j-1)//2]$, además se implementó que comparara el primer elemento de la tupla que corresponde al tiempo. En la función hundir se modificó $ k+1<n ,[k+1][0]<a[k][0]$ donde ambos signos de comparaciones eran \">\" puesto que en el apunte la mayor prioridad la tenía el mayor número, y en éste caso la mejor prioridad era el menor valor.\n",
        "\n",
        "Luego se modificó el Heap de tal forma que recibiera tuplas, con la forma dtype=\"object\", y en las comparaciones de tiempo se tomó el primer valor de la tupla (a_insertar[0]).\n",
        "\n",
        "La metodología a utilizar fue, tal como indicaba la sugerencia antes del while, encolar el primer evento de llegada, cómo se está incorporando el Heap, se insertó un elemento al Heap, éste evento era un evento de llegada y su tiempo, uno exponencial asociado a $t_{a}$. Luego en cada iteración sacar un evento de la cola de prioridad y procesarlo, la manera de extraer un elemento en la cola de prioridad incorporada es extraer mínimo, como éste valor es una tupla, se toma el valor [0] para el tiempo y el valor [1] para saber el tipo de evento. Cuando en el programa original se generaba un evento nuevo y se asignaba a la variable respectiva, ahora hay que insertar un nuevo evento del tipo correspondiente en la cola de prioridad, es decir, en los dos posibles eventos del programa se inserta en el Heap el tiempo correspondiente al evento, es decir, si es evento salida, entonces el tiempo asociado es $t_{s}$ y si es evento de llegada, entonces el tiempo asociado a insertar es $t_{a}$, y como dentro de cada posible evento, hay distintas condiciones para estar en uno o en el otro, entonces dentro de cada condición se evaluó si era necesario o no insertar un elemento o sólo declarar el tipo de evento, ésto es, si en el evento, la cola estaba vacía, entonces el tipo de evento es None, y para el evento de salida, si el número de clientes es distinto al número máximo de clientes, entonces se declara el evento como evento de llegada, esto ya que si se insertaba un elemento, entonces el ciclo no terminaba jamás.\n",
        "\n",
        "Finalmente, se obtiene lo pedido en la simulación sin cola de prioridad que es lo que se pide, sin embargo se notó una impresición asociada a las variables acum_largo_cola y acum_tiempo_en_sistema ya que ambas corresponden a variables asociadas a la cola, por lo que lo que se obtendría en el resultado sería el valor asociado a la cola y no a la cola de prioridad, sin embargo no se pudo realizar de otra forma."
      ]
    },
    {
      "cell_type": "markdown",
      "metadata": {
        "id": "EiFVF2jZ_I6z",
        "colab_type": "text"
      },
      "source": [
        "## 2. Modificar el modelo para introducir un tiempo comprando\n",
        "\n"
      ]
    },
    {
      "cell_type": "code",
      "metadata": {
        "id": "CVqgWWHQn_jc",
        "colab_type": "code",
        "colab": {}
      },
      "source": [
        "import numpy as np\n",
        "def trepar(a,j): # El elemento a[j] trepa hasta su nivel de prioridad \n",
        "    while j>=1 and a[j][0]<a[(j-1)//2][0]: #compara elemento 0 de la tupla, que es el tiempo, pero mueve la tupla completa\n",
        "        (a[j],a[(j-1)//2])=(a[(j-1)//2],a[j]) # intercambiamos con el padre\n",
        "        j=(j-1)//2 # subimos al lugar del padre\n",
        "        \n",
        "def hundir(a,j,n): # El elemento a[j] se hunde hasta su nivel de prioridad\n",
        "    while 2*j+1<n: # mientras tenga al menos 1 hijo\n",
        "        k=2*j+1 # el hijo izquierdo\n",
        "        if k+1<n and a[k+1][0]<a[k][0]: # el hijo derecho existe y es menor\n",
        "            k+=1\n",
        "        if a[j][0]<=a[k][0]: # tiene mejor prioridad que ambos hijos\n",
        "            break\n",
        "        (a[j],a[k])=(a[k],a[j]) # se intercambia con el menor de los hijos\n",
        "        j=k # bajamos al lugar del menor de los hijos\n",
        "    \n",
        "class Heap:\n",
        "    def __init__(self,maxn=100):\n",
        "        self.a=np.zeros(maxn, dtype=\"object\")\n",
        "        self.n=0\n",
        "    def insert(self,x):\n",
        "        assert self.n<len(self.a)\n",
        "        self.a[self.n]=x    \n",
        "        trepar(self.a,self.n)\n",
        "        self.n+=1       \n",
        "    def extract_min(self):\n",
        "        x=self.a[0] # esta variable lleva el mínimo, el casillero 0 queda vacante\n",
        "        self.n-=1   # achicamos el heap\n",
        "        self.a[0]=self.a[self.n] # movemos el elemento sobrante hacia el casillero vacante\n",
        "        hundir(self.a,0,self.n)\n",
        "        return x\n",
        "    def imprimir(self):\n",
        "        print(self.a[0:self.n])\n",
        "    def size(self): \n",
        "        return self.n\n",
        "    def is_empty(self):\n",
        "        return self.a is None\n",
        "\n",
        "class Cola:\n",
        "    def __init__(self):\n",
        "        self.q=[]\n",
        "    def enq(self,x):\n",
        "        self.q.insert(0,x)\n",
        "    def deq(self):\n",
        "        assert len(self.q)>0\n",
        "        return self.q.pop()\n",
        "    def is_empty(self):\n",
        "        return len(self.q)==0\n",
        "    def size(self):\n",
        "        return len(self.q)"
      ],
      "execution_count": 55,
      "outputs": []
    },
    {
      "cell_type": "code",
      "metadata": {
        "id": "pC4GX8KyoKHD",
        "colab_type": "code",
        "colab": {}
      },
      "source": [
        "def print_list(L):\n",
        "    for x in L:\n",
        "        print(x)\n",
        "        \n",
        "def simula(maxclientes, ta, ts, tc, debug = False):\n",
        "    # Simula el paso de maxclientes clientes por el sistema, donde\n",
        "    # ta = tiempo promedio entre llegadas (arrivals)\n",
        "    # ts = tiempo promedio de servicio\n",
        "    # maxclientes = número máximo de clientes para la simulación\n",
        "    # debug = True => genera bitácora y usa secuencia aleatoria reproducible\n",
        "    # retorna (largo promedio de la cola, tiempo promedio en el sistema)\n",
        "\n",
        "    if debug: \n",
        "        np.random.seed(1234)\n",
        "\n",
        "    ahora = 0 # Tiempo simulado\n",
        "    nclientes = 0 # Número de clientes que han llegado\n",
        "    H = Heap(maxclientes) \n",
        "    c = Cola()\n",
        "    acum_largo_cola = 0 # acumula largo de la cola para sacar promedio al final\n",
        "    acum_tiempo_en_sistema = 0 # acumula tiempos en el sistema para sacar promedio al final\n",
        "    bitacora = [] #En caso de que se pida debug\n",
        "    \n",
        "    #al igual que en el caso anterior se inserta el primer elemento en el Heap\n",
        "\n",
        "    tipo_evento = \"evento_llegada\"\n",
        "    tiempo_evento = np.random.exponential(ta)\n",
        "    \n",
        "    H.insert((tiempo_evento, tipo_evento))\n",
        "     \n",
        "    while tipo_evento is not None: #en cada iteracion se ve que tipo_evento no sea None y se procesa, esto es se extrae el minimo y su tiempo y tipo de evento correspondiente\n",
        "\n",
        "        evento = H.extract_min() \n",
        "        ahora = evento[0] \n",
        "        tipo_evento = evento[1] \n",
        "\n",
        "        #primer evento es el de llegada\n",
        "        if tipo_evento == \"evento_llegada\":\n",
        "            nclientes += 1\n",
        "           \n",
        "            if debug: \n",
        "                bitacora.append(\"T = \" + str(ahora) +\n",
        "                                \" Tiempo evento=\" + str(tiempo_evento)+ \" Tipo evento=\" + str(tipo_evento)+\n",
        "                                \" => LLEGADA\"+\n",
        "                                \"\\n\\tCola = \" + str(c.q))\n",
        "            #se pasa a evento tipo fin compra\n",
        "            tipo_evento = \"fin_compra\"\n",
        "            tiempo_evento = ahora + np.random.exponential(tc)\n",
        "            # se inserta en el Heap\n",
        "            H.insert((tiempo_evento, tipo_evento))\n",
        "            acum_tiempo_en_sistema += (tiempo_evento - ahora) \n",
        "            #bajo cierta condicion, el evento es evento de llegada         \n",
        "            if nclientes < maxclientes: \n",
        "                tipo_evento = \"evento_llegada\"\n",
        "                tiempo_evento = ahora + np.random.exponential(ta)\n",
        "                #se inserta en el Heap\n",
        "                H.insert((tiempo_evento, tipo_evento))\n",
        "            #evento agregado llamado fin compra que ocurre bajo ciertas condiciones\n",
        "        elif tipo_evento == \"fin_compra\":\n",
        "            c.enq(ahora) #se encola el tiempo en la cola\n",
        "            acum_largo_cola += c.size()\n",
        "            if debug: \n",
        "                bitacora.append(\"T = \" + str(ahora) +\n",
        "                                \" Tiempo evento=\" + str(tiempo_evento)+ \" Tipo evento=\" + str(tipo_evento)+\n",
        "                                \" => FIN COMPRA\"+\n",
        "                                \"\\n\\tCola = \" + str(c.q))\n",
        "            if c.size() == 1:\n",
        "                tipo_evento = \"evento_salida\"\n",
        "                tiempo_evento = ahora + np.random.exponential(ts)\n",
        "                # se inserta el elemento correspondiente en el Heap\n",
        "                H.insert((tiempo_evento, tipo_evento))\n",
        "        else:\n",
        "            \n",
        "            if debug: \n",
        "                bitacora.append(\"T = \" + str(ahora) +\n",
        "                                \" Tiempo evento=\" + str(tiempo_evento)+ \" Tipo evento=\" + str(tipo_evento)+\n",
        "                                \" => SALIDA\"+\n",
        "                                \"\\n\\tCola = \" + str(c.q))\n",
        "            tllegada = c.deq() #se saca el elemento de la cola\n",
        "            acum_tiempo_en_sistema += (ahora - tllegada) #se acumula en ésta variable\n",
        "            if c.is_empty(): #si la cola está vacía\n",
        "                if nclientes < maxclientes: #si el numero de clientes es menor al maximo de clientes\n",
        "                    tipo_evento = \"evento_llegada\" #define evento como evento llegada\n",
        "                if H.size() == 0: #tamaño del heap es cero\n",
        "                    tipo_evento = None #el evento es None\n",
        "            else:  #si la cola no está vacía\n",
        "                tipo_evento = \"evento_salida\" #define el evento como evento salida\n",
        "                tiempo_evento = ahora + np.random.exponential(ts) #junto con su hora correspondiente\n",
        "                #se inserta en el Heap\n",
        "                H.insert((tiempo_evento, tipo_evento))\n",
        "\n",
        "    return (acum_largo_cola/maxclientes, acum_tiempo_en_sistema/maxclientes, bitacora)"
      ],
      "execution_count": 56,
      "outputs": []
    },
    {
      "cell_type": "code",
      "metadata": {
        "id": "R6uKsaagoP1D",
        "colab_type": "code",
        "colab": {
          "base_uri": "https://localhost:8080/",
          "height": 34
        },
        "outputId": "423edfd4-a293-41fd-cedb-f19206ba3545"
      },
      "source": [
        "(cola,demora,bitacora)=simula(10,100,75,300,debug=True)\n",
        "print(\"Largo promedio de la cola=\",cola,\" Tiempo promedio en el sistema=\",demora)"
      ],
      "execution_count": 57,
      "outputs": [
        {
          "output_type": "stream",
          "text": [
            "Largo promedio de la cola= 1.5  Tiempo promedio en el sistema= 417.546881178519\n"
          ],
          "name": "stdout"
        }
      ]
    },
    {
      "cell_type": "code",
      "metadata": {
        "id": "572jgJwDoTft",
        "colab_type": "code",
        "colab": {
          "base_uri": "https://localhost:8080/",
          "height": 1000
        },
        "outputId": "6b560236-bf4a-4fd6-f6ff-0be94bb7ca8a"
      },
      "source": [
        "print_list(bitacora)"
      ],
      "execution_count": 58,
      "outputs": [
        {
          "output_type": "stream",
          "text": [
            "T = 21.25986576184801 Tiempo evento=21.25986576184801 Tipo evento=evento_llegada => LLEGADA\n",
            "\tCola = []\n",
            "T = 78.83677538497456 Tiempo evento=78.83677538497456 Tipo evento=evento_llegada => LLEGADA\n",
            "\tCola = []\n",
            "T = 230.23855294286716 Tiempo evento=230.23855294286716 Tipo evento=evento_llegada => LLEGADA\n",
            "\tCola = []\n",
            "T = 262.5990858090567 Tiempo evento=262.5990858090567 Tipo evento=evento_llegada => LLEGADA\n",
            "\tCola = []\n",
            "T = 313.20452941544585 Tiempo evento=579.9399980224337 Tipo evento=fin_compra => FIN COMPRA\n",
            "\tCola = [313.20452941544585]\n",
            "T = 325.719127099946 Tiempo evento=469.724323866816 Tipo evento=fin_compra => FIN COMPRA\n",
            "\tCola = [325.719127099946, 313.20452941544585]\n",
            "T = 469.724323866816 Tiempo evento=469.724323866816 Tipo evento=evento_salida => SALIDA\n",
            "\tCola = [325.719127099946, 313.20452941544585]\n",
            "T = 502.9405030835674 Tiempo evento=502.9405030835674 Tipo evento=evento_salida => SALIDA\n",
            "\tCola = [325.719127099946]\n",
            "T = 540.4727177230324 Tiempo evento=502.9405030835674 Tipo evento=fin_compra => FIN COMPRA\n",
            "\tCola = [540.4727177230324]\n",
            "T = 579.9399980224337 Tiempo evento=592.6081738321524 Tipo evento=evento_llegada => LLEGADA\n",
            "\tCola = [540.4727177230324]\n",
            "T = 592.6081738321524 Tiempo evento=704.6635348529446 Tipo evento=evento_salida => SALIDA\n",
            "\tCola = [540.4727177230324]\n",
            "T = 704.6635348529446 Tiempo evento=704.6635348529446 Tipo evento=evento_llegada => LLEGADA\n",
            "\tCola = []\n",
            "T = 748.2519523806671 Tiempo evento=787.0338207410872 Tipo evento=fin_compra => FIN COMPRA\n",
            "\tCola = [748.2519523806671]\n",
            "T = 787.0338207410872 Tiempo evento=800.7018974939823 Tipo evento=evento_llegada => LLEGADA\n",
            "\tCola = [748.2519523806671]\n",
            "T = 791.1930548829886 Tiempo evento=935.2379979000931 Tipo evento=fin_compra => FIN COMPRA\n",
            "\tCola = [791.1930548829886, 748.2519523806671]\n",
            "T = 800.7018974939823 Tiempo evento=935.2379979000931 Tipo evento=evento_salida => SALIDA\n",
            "\tCola = [791.1930548829886, 748.2519523806671]\n",
            "T = 843.3936035446682 Tiempo evento=961.3908442709866 Tipo evento=fin_compra => FIN COMPRA\n",
            "\tCola = [843.3936035446682, 791.1930548829886]\n",
            "T = 925.0344787605443 Tiempo evento=961.3908442709866 Tipo evento=fin_compra => FIN COMPRA\n",
            "\tCola = [925.0344787605443, 843.3936035446682, 791.1930548829886]\n",
            "T = 935.2379979000931 Tiempo evento=961.3908442709866 Tipo evento=evento_llegada => LLEGADA\n",
            "\tCola = [925.0344787605443, 843.3936035446682, 791.1930548829886]\n",
            "T = 961.3908442709866 Tiempo evento=1030.792148840738 Tipo evento=evento_salida => SALIDA\n",
            "\tCola = [925.0344787605443, 843.3936035446682, 791.1930548829886]\n",
            "T = 967.268877737664 Tiempo evento=967.268877737664 Tipo evento=evento_salida => SALIDA\n",
            "\tCola = [925.0344787605443, 843.3936035446682]\n",
            "T = 1001.7816684248819 Tiempo evento=1001.7816684248819 Tipo evento=evento_salida => SALIDA\n",
            "\tCola = [925.0344787605443]\n",
            "T = 1030.792148840738 Tiempo evento=1001.7816684248819 Tipo evento=evento_llegada => LLEGADA\n",
            "\tCola = []\n",
            "T = 1071.4232208888677 Tiempo evento=1136.1688937550139 Tipo evento=fin_compra => FIN COMPRA\n",
            "\tCola = [1071.4232208888677]\n",
            "T = 1109.3862775258685 Tiempo evento=1109.3862775258685 Tipo evento=evento_salida => SALIDA\n",
            "\tCola = [1071.4232208888677]\n",
            "T = 1136.1688937550139 Tiempo evento=1109.3862775258685 Tipo evento=evento_llegada => LLEGADA\n",
            "\tCola = []\n",
            "T = 1602.5545995296388 Tiempo evento=1602.5545995296388 Tipo evento=fin_compra => FIN COMPRA\n",
            "\tCola = [1602.5545995296388]\n",
            "T = 1631.1311377745828 Tiempo evento=1631.1311377745828 Tipo evento=evento_salida => SALIDA\n",
            "\tCola = [1602.5545995296388]\n",
            "T = 1842.338925832466 Tiempo evento=1631.1311377745828 Tipo evento=fin_compra => FIN COMPRA\n",
            "\tCola = [1842.338925832466]\n",
            "T = 1905.3057817857464 Tiempo evento=1905.3057817857464 Tipo evento=evento_salida => SALIDA\n",
            "\tCola = [1842.338925832466]\n"
          ],
          "name": "stdout"
        }
      ]
    },
    {
      "cell_type": "markdown",
      "metadata": {
        "id": "fc5Rru6W_I60",
        "colab_type": "text"
      },
      "source": [
        "# Explicación P2\n",
        "\n",
        "Se creó un nuevo evento, evento fin compra, el cuál, después de llegar al supermercado, la persona, se queda un tiempo exponencial asociado a $t_{c}$ comprando, se definió en el código entre los eventos llegada y salida. Para estar en el evento fin compra, basta con estar situado en el evento llegada, luego de ello se está en el evento fin compra, luego estando en este tipo de evento, si el largo de la cola es igual a 1, entonces cambiamos a evento salida.\n",
        "\n",
        "Siguiendo la sugerencia de la pregunta anterior, antes del while, encolar el primer evento de llegada, cómo se está incorporando el Heap, se insertó un elemento al Heap, éste evento era un evento de llegada y su tiempo, uno exponencial para  $t_{a}$ . Luego en cada iteración sacar un evento de la cola de prioridad y procesarlo, la manera de extraer un elemento en la cola de prioridad incorporada es extraer mínimo, como éste valor es una tupla, se toma el valor [0] para el tiempo y el valor [1] para saber el tipo de evento. Cuando en el programa original se generaba un evento nuevo y se asignaba a la variable respectiva, ahora hay que insertar un nuevo evento del tipo correspondiente en la cola de prioridad, es decir, en los tres posibles eventos del programa se inserta en el Heap el tiempo correspondiente al evento, es decir, si es evento salida, entonces el tiempo asociado es  $t_{s}$, si es evento de llegada, entonces el tiempo asociado a insertar en  $t_{a}$ y si el evento es fin compra, entonces el tiempo asociado es $t_{c}$. En los eventos llegada y fin compra, en cada una de sus condiciones se insertó el elemento correspondiente en el Heap (tipo de evento y su tiempo correspondiente), para el evento salida, si la cola está vacía, si el tamaño del Heap es cero, entonces el tipo evento es None, si el número de clientes es menor que el número máximo de clientes, entonces se declara el evento como evento llegada, si la cola es distinta de vacío, entonces se inserta en el Heap el elemento evento salida y su tiempo correspondiente.\n",
        "\n",
        "Finalmente se obtiene que el largo promedio de la cola es 1.5 y el tiempo promedio en el sistema es 417, la bitácora generada introduce el evento fin compra además de los dos eventos declarados anteriormente."
      ]
    },
    {
      "cell_type": "code",
      "metadata": {
        "id": "DaVhWn3Y05TB",
        "colab_type": "code",
        "colab": {}
      },
      "source": [
        ""
      ],
      "execution_count": null,
      "outputs": []
    }
  ]
}