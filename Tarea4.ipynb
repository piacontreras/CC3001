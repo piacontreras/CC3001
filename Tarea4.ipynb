{
  "nbformat": 4,
  "nbformat_minor": 0,
  "metadata": {
    "kernelspec": {
      "display_name": "Python 3",
      "language": "python",
      "name": "python3"
    },
    "language_info": {
      "codemirror_mode": {
        "name": "ipython",
        "version": 3
      },
      "file_extension": ".py",
      "mimetype": "text/x-python",
      "name": "python",
      "nbconvert_exporter": "python",
      "pygments_lexer": "ipython3",
      "version": "3.7.1"
    },
    "colab": {
      "name": "Tarea4.ipynb",
      "provenance": [],
      "collapsed_sections": []
    }
  },
  "cells": [
    {
      "cell_type": "markdown",
      "metadata": {
        "id": "mu1A8tTi6Cpe",
        "colab_type": "text"
      },
      "source": [
        "# CC3001 Otoño 2020 Tarea 4\n",
        "# Generación de código\n",
        "\n",
        "Profesores: Sección 1 Patricio Poblete / Sección 2 Nelson Baloian\n",
        "\n",
        "Plazo: Lunes 8 de junio de 2020 a las 23:59\n",
        "\n",
        "Estudiante: Pía Contreras Guerrero"
      ]
    },
    {
      "cell_type": "markdown",
      "metadata": {
        "id": "oSl60LLq6Cpi",
        "colab_type": "text"
      },
      "source": [
        "El objetivo de esta tarea es aprender sobre la manipulación de árboles que representan fórmulas. Hay muchas cosas que uno puede hacer con estos árboles, y en esta tarea nos enfocaremos en particular en algo que los compiladores hacen: la **generación de código** para evaluar fórmulas.\n",
        "\n",
        "Específicamente, el problema es: dada una fórmula, generar una secuencia de instrucciones elementales que la evalúen. Por ejemplo, dada una fórmula como\n",
        "\n",
        "```\n",
        "(a+b)*(c-d)\n",
        "```\n",
        "\n",
        "se podría generar código como el siguiente:\n",
        "\n",
        "```\n",
        "t1=a+b\n",
        "t2=c-d\n",
        "t3=t1*t2\n",
        "```\n",
        "\n",
        "Las instrucciones elementales son siempre de la forma ``ti=x op y``, donde ``ti`` es una variable temporal, ``x`` e ``y`` pueden ser variables o números, y ``op`` es un operador. Uno va creando variables ``t1``, ``t2``, ... a medida que las necesita, y la última de ellas es la que almacena el valor final de la fórmula.\n",
        "\n",
        "Las fórmulas pueden ser arbitrariamente complicadas, como por ejemplo la fórmula\n",
        "\n",
        "$$\n",
        "(2-p\\,q)\\left( \\frac{1}{n}+\\frac{1}{p+q}\\right)\n",
        "$$\n",
        "\n",
        "la cual escribimos como\n",
        "\n",
        "```\n",
        "(2-p*q)*(1/n+1/(p+q))\n",
        "```\n",
        "\n",
        "y cuyo código generado podría ser,\n",
        "\n",
        "```\n",
        "t1=p*q\n",
        "t2=2-t1\n",
        "t3=1/n\n",
        "t4=p+q\n",
        "t5=1/t4\n",
        "t6=t3+t5\n",
        "t7=t2*t6\n",
        "```\n",
        "\n",
        "El objetivo de esta tarea es que usted implemente una función que, dado un árbol ya construído, lo recorra para generar una secuencia de instrucciones elementales que lo evalúe.\n",
        "\n",
        "A continuación usted encontrará clases ``Nodoi``, ``Nodoe`` y ``Arbol`` que implementan árboles que representan fórmulas. La clase ``Arbol`` viene con un constructor que recibe un string como parámetro, el cual contiene una fórmula, y este constructor se encarga de transformar la fórmula de string a árbol, de modo que usted no necesita preocuparse de eso. Para simplificar, la fórmula solo podrá contener variables de una sola letra, números de un solo dígito, y sin espacios. Los operadores permitidos son solo suma, resta, multiplicación y división. No hay operador menos unario.\n",
        "\n",
        "Usted tienen que implementar para la clase ``Arbol`` una función ``codigo`` que al ser invocado genere una secuencia de instrucciones elementales para evaluar la fórmula representada por ese árbol, y la retorne en forma de una lista (de Python)."
      ]
    },
    {
      "cell_type": "code",
      "metadata": {
        "id": "VqFvxmSm6Cpj",
        "colab_type": "code",
        "colab": {}
      },
      "source": [
        "class Nodoi:\n",
        "    def __init__(self, izq, info, der):\n",
        "        self.izq=izq\n",
        "        self.info=info\n",
        "        self.der=der\n",
        "    def postorden(self):\n",
        "      v1=self.izq.postorden()   \n",
        "      v2=self.der.postorden()\n",
        "      global lista\n",
        "      global contador\n",
        "      variable = \"t{}\".format(contador)\n",
        "      if self.izq.info not in [\"+\",\"-\",\"*\",\"/\"] and self.der.info not in [\"+\",\"-\",\"*\",\"/\"]:\n",
        "        lista.append(variable + \":\"+\" \"+ self.izq.info + \" \" + self.info + \" \" + self.der.info)\n",
        "        contador=contador+1\n",
        "      elif self.izq.info not in [\"+\",\"-\",\"*\",\"/\"] and self.der.info in [\"+\",\"-\",\"*\",\"/\"]:\n",
        "        lista.append(variable+\":\"+\" \"+ self.izq.info + \" \" +self.info+ \" \"+ v2)\n",
        "        contador=contador+1\n",
        "      elif self.izq.info in [\"+\",\"-\",\"*\",\"/\"] and self.der.info not in [\"+\",\"-\",\"*\",\"/\"]:\n",
        "        lista.append(variable+\":\"+ \" \"+ v1+ \" \"+ self.info+ \" \"+ self.der.info)\n",
        "        contador=contador+1\n",
        "      else:\n",
        "        lista.append(variable +\":\"+ \" \" + v1 +\" \"+ self.info + \" \" +v2)\n",
        "        contador=contador+1\n",
        "      return variable\n",
        "\n",
        "\n",
        "class Nodoe:\n",
        "    def __init__(self, info):\n",
        "        self.info=info\n",
        "    def postorden(self):\n",
        "\n",
        "        return self.info\n",
        "\n",
        "class Arbol:\n",
        "    def __init__(self,formula):\n",
        "        global k\n",
        "        global s\n",
        "        s=formula+\";\" # agregamos una marca de fin de la entrada\n",
        "        k=0 # indica próximo caracter por procesar\n",
        "        # definimos funciones para analizar la fórmula\n",
        "        def expresion(): # retorna puntero a la raíz de un árbol que representa a la fórmula s\n",
        "            global k\n",
        "            global s\n",
        "            a=factor()\n",
        "            while s[k]==\"+\" or s[k]==\"-\":\n",
        "                op=s[k]\n",
        "                k+=1\n",
        "                b=factor()\n",
        "                a=Nodoi(a,op,b)\n",
        "            return a\n",
        "        def factor():\n",
        "            global k\n",
        "            global s\n",
        "            a=termino()\n",
        "            while s[k]==\"*\" or s[k]==\"/\":\n",
        "                op=s[k]\n",
        "                k+=1\n",
        "                b=termino()\n",
        "                a=Nodoi(a,op,b)\n",
        "            return a\n",
        "        def termino(): # posible constante, variable o formula parentizada\n",
        "            global k\n",
        "            global s\n",
        "            if s[k].isalpha() or s[k].isdigit():\n",
        "                a=Nodoe(s[k])\n",
        "                k+=1\n",
        "                return a\n",
        "            if s[k]==\"(\": # fórmula parentizada\n",
        "                k+=1\n",
        "                a=expresion()\n",
        "                if s[k]!=\")\":\n",
        "                    print(\"Error: Falta cierra paréntesis: \"+formula[k:])\n",
        "                    assert False\n",
        "                k+=1\n",
        "                return a\n",
        "            print(\"Error: Falta variable, número o abre paréntesis: \"+formula[k:])\n",
        "            assert False\n",
        "              \n",
        "        a=expresion()\n",
        "        if s[k]!=\";\":\n",
        "            print(\"Error: Basura al final de la fórmula: \"+formula[k:])\n",
        "            assert False                \n",
        "        self.raiz=a\n",
        "            \n",
        "    def postorden(self):\n",
        "        self.raiz.postorden()\n",
        "        print()\n",
        "    \n",
        "    def codigo(self):\n",
        "      global lista\n",
        "      global contador\n",
        "      contador=1\n",
        "      lista=[]\n",
        "      self.postorden()\n",
        "      if self.raiz.info not in [\"+\",\"-\",\"*\",\"/\"]:\n",
        "        lista=[\"t1\"+\":\"+\" \"+ str(self.raiz.info)]\n",
        "        return lista\n",
        "      else:\n",
        "        return lista"
      ],
      "execution_count": 0,
      "outputs": []
    },
    {
      "cell_type": "markdown",
      "metadata": {
        "id": "U9Irc7gA6Cpy",
        "colab_type": "text"
      },
      "source": [
        "## Resultados"
      ]
    },
    {
      "cell_type": "markdown",
      "metadata": {
        "id": "gMst1UPk6Cpy",
        "colab_type": "text"
      },
      "source": [
        "En esta sección probamos la generación de código que usted tiene que escribir. Mientras usted no sustituya la función ``codigo`` provisoria que viene en la definición de la clase, va a aparecer la lista que generamos ahí. Primero vamos a definir una función ``probar`` que genera el código a partir de una fórmula dada e imprime el resultado:"
      ]
    },
    {
      "cell_type": "code",
      "metadata": {
        "id": "_hihUwev6Cpz",
        "colab_type": "code",
        "colab": {}
      },
      "source": [
        "def probar(formula):\n",
        "    a=Arbol(formula)\n",
        "    for x in a.codigo():\n",
        "        print(x)"
      ],
      "execution_count": 0,
      "outputs": []
    },
    {
      "cell_type": "markdown",
      "metadata": {
        "id": "AbL_pw8s6Cp3",
        "colab_type": "text"
      },
      "source": [
        "A continuación probamos con varias fórmulas. Además de las fórmulas dadaas, usted tiene que agregar tres ejemplos adicionales."
      ]
    },
    {
      "cell_type": "code",
      "metadata": {
        "id": "952_ERId6Cp3",
        "colab_type": "code",
        "outputId": "abb8621a-1596-4810-d3f3-d08e0ba81b9a",
        "colab": {
          "base_uri": "https://localhost:8080/",
          "height": 51
        }
      },
      "source": [
        "probar(\"a+1\")"
      ],
      "execution_count": 3,
      "outputs": [
        {
          "output_type": "stream",
          "text": [
            "\n",
            "t1: a + 1\n"
          ],
          "name": "stdout"
        }
      ]
    },
    {
      "cell_type": "code",
      "metadata": {
        "id": "RTLwTQHA6Cp8",
        "colab_type": "code",
        "outputId": "0f792edc-fe3f-438c-97fa-55fedd2019da",
        "colab": {
          "base_uri": "https://localhost:8080/",
          "height": 85
        }
      },
      "source": [
        "probar(\"(a+b)*(c-d)\")"
      ],
      "execution_count": 4,
      "outputs": [
        {
          "output_type": "stream",
          "text": [
            "\n",
            "t1: a + b\n",
            "t2: c - d\n",
            "t3: t1 * t2\n"
          ],
          "name": "stdout"
        }
      ]
    },
    {
      "cell_type": "code",
      "metadata": {
        "id": "TIPI8jIl6Cp_",
        "colab_type": "code",
        "outputId": "c67a033f-9b75-41ba-a0b3-659e05e0b3d1",
        "colab": {
          "base_uri": "https://localhost:8080/",
          "height": 153
        }
      },
      "source": [
        "probar(\"(2-p*q)*(1/n+1/(p+q))\")"
      ],
      "execution_count": 5,
      "outputs": [
        {
          "output_type": "stream",
          "text": [
            "\n",
            "t1: p * q\n",
            "t2: 2 - t1\n",
            "t3: 1 / n\n",
            "t4: p + q\n",
            "t5: 1 / t4\n",
            "t6: t3 + t5\n",
            "t7: t2 * t6\n"
          ],
          "name": "stdout"
        }
      ]
    },
    {
      "cell_type": "code",
      "metadata": {
        "id": "lW6crOsa6CqG",
        "colab_type": "code",
        "outputId": "79462e4f-f43e-4f72-8956-5cf6241379a3",
        "colab": {
          "base_uri": "https://localhost:8080/",
          "height": 102
        }
      },
      "source": [
        "probar(\"((((a+b)+c)+d)+e)\")"
      ],
      "execution_count": 6,
      "outputs": [
        {
          "output_type": "stream",
          "text": [
            "\n",
            "t1: a + b\n",
            "t2: t1 + c\n",
            "t3: t2 + d\n",
            "t4: t3 + e\n"
          ],
          "name": "stdout"
        }
      ]
    },
    {
      "cell_type": "code",
      "metadata": {
        "id": "j3J7bYUA6CqJ",
        "colab_type": "code",
        "outputId": "bca822da-8a88-4a50-d1b0-27eb854316bf",
        "colab": {
          "base_uri": "https://localhost:8080/",
          "height": 102
        }
      },
      "source": [
        "probar(\"(a+(b+(c+(d+e))))\")"
      ],
      "execution_count": 7,
      "outputs": [
        {
          "output_type": "stream",
          "text": [
            "\n",
            "t1: d + e\n",
            "t2: c + t1\n",
            "t3: b + t2\n",
            "t4: a + t3\n"
          ],
          "name": "stdout"
        }
      ]
    },
    {
      "cell_type": "code",
      "metadata": {
        "id": "1iJ9YfZa6CqP",
        "colab_type": "code",
        "outputId": "8fc2661b-6cc8-4fa9-9950-6885cd108540",
        "colab": {
          "base_uri": "https://localhost:8080/",
          "height": 51
        }
      },
      "source": [
        "probar(\"a\")"
      ],
      "execution_count": 8,
      "outputs": [
        {
          "output_type": "stream",
          "text": [
            "\n",
            "t1: a\n"
          ],
          "name": "stdout"
        }
      ]
    },
    {
      "cell_type": "code",
      "metadata": {
        "id": "1zpb9xEBpc0T",
        "colab_type": "code",
        "outputId": "67f1c01a-c5ee-4627-e617-6a607e6890a1",
        "colab": {
          "base_uri": "https://localhost:8080/",
          "height": 85
        }
      },
      "source": [
        "probar(\"a+(b+c)/5\")"
      ],
      "execution_count": 9,
      "outputs": [
        {
          "output_type": "stream",
          "text": [
            "\n",
            "t1: b + c\n",
            "t2: t1 / 5\n",
            "t3: a + t2\n"
          ],
          "name": "stdout"
        }
      ]
    },
    {
      "cell_type": "code",
      "metadata": {
        "id": "K586lPGqpeRb",
        "colab_type": "code",
        "outputId": "e0e4e135-1eda-4301-a2d5-01f43f8b2ac4",
        "colab": {
          "base_uri": "https://localhost:8080/",
          "height": 221
        }
      },
      "source": [
        "probar(\"p+i+a*(c+o+n+t+r+e+r+a+s)\")"
      ],
      "execution_count": 10,
      "outputs": [
        {
          "output_type": "stream",
          "text": [
            "\n",
            "t1: p + i\n",
            "t2: c + o\n",
            "t3: t2 + n\n",
            "t4: t3 + t\n",
            "t5: t4 + r\n",
            "t6: t5 + e\n",
            "t7: t6 + r\n",
            "t8: t7 + a\n",
            "t9: t8 + s\n",
            "t10: a * t9\n",
            "t11: t1 + t10\n"
          ],
          "name": "stdout"
        }
      ]
    },
    {
      "cell_type": "code",
      "metadata": {
        "id": "hY2Nsf1tqt5_",
        "colab_type": "code",
        "outputId": "73f770a6-0fec-4fe8-dcae-b2c4103e13e8",
        "colab": {
          "base_uri": "https://localhost:8080/",
          "height": 136
        }
      },
      "source": [
        "probar(\"(i*7)/n+3*(q-(2+c))\")"
      ],
      "execution_count": 11,
      "outputs": [
        {
          "output_type": "stream",
          "text": [
            "\n",
            "t1: i * 7\n",
            "t2: t1 / n\n",
            "t3: 2 + c\n",
            "t4: q - t3\n",
            "t5: 3 * t4\n",
            "t6: t2 + t5\n"
          ],
          "name": "stdout"
        }
      ]
    },
    {
      "cell_type": "code",
      "metadata": {
        "id": "vZx4CqADrE_9",
        "colab_type": "code",
        "outputId": "819f0862-c057-44a8-89d8-d9ce9ccbb563",
        "colab": {
          "base_uri": "https://localhost:8080/",
          "height": 102
        }
      },
      "source": [
        "probar(\"k/n*3+(o+d)\")"
      ],
      "execution_count": 12,
      "outputs": [
        {
          "output_type": "stream",
          "text": [
            "\n",
            "t1: k / n\n",
            "t2: t1 * 3\n",
            "t3: o + d\n",
            "t4: t2 + t3\n"
          ],
          "name": "stdout"
        }
      ]
    },
    {
      "cell_type": "code",
      "metadata": {
        "id": "hXUo-wvmYvlc",
        "colab_type": "code",
        "colab": {
          "base_uri": "https://localhost:8080/",
          "height": 68
        },
        "outputId": "9a597ab9-1864-4c12-a586-23d292856b72"
      },
      "source": [
        "probar(\"a/b*c\")"
      ],
      "execution_count": 13,
      "outputs": [
        {
          "output_type": "stream",
          "text": [
            "\n",
            "t1: a / b\n",
            "t2: t1 * c\n"
          ],
          "name": "stdout"
        }
      ]
    },
    {
      "cell_type": "markdown",
      "metadata": {
        "id": "avORfajcjQ9w",
        "colab_type": "text"
      },
      "source": [
        "La estrategia que se usó para que el código funcionara fue principalmente cambiar la función postorden del Nodo interno. \n",
        "\n",
        "La función del Nodo externo se modificó de manera que siempre retorna la información del nodo, ya que la información del nodo externo es siempre un número y una variable, por lo que no hay donde más seguir buscando. Los nodos externos son constuidos puramente por variables y por números, nunca poseen los operadores.\n",
        "\n",
        "La función del Nodo interno se modificó de tal forma que comparaba los nodos en que se encontraba, para lo cual hubo 4 casos. \n",
        "\n",
        "* En los dos nodos en que estoy parado son distintos a los operadores, si es así, entonces agrego a la lista variable, operador, variable. Y aumenta contador.\n",
        "\n",
        "* Si el nodo izquierdo es distinto a los operadores y en el nodo derecho es operador, entonces aplico postorden en el nodo derecho y guardo variable agregando a la lista, esto es, variable, operador, self.der.postorden(). Y aumenta contador.\n",
        "\n",
        "* Si el nodo izquierdo es operador y el nodo derecho es distinto a operador, entonces, aplico postorden en el nodo izquierdo y guardo variable agregando a la lista, esto es, self.izq.postorden(), operador, variable. Y aumenta contador.\n",
        "\n",
        "* Finalmente, si ambos nodos son operador, entonces en ambos nodos aplico postorden, guardo variable y agrego a lista de la siguiente manera self.izq.postorden(), operador, self.der.postorden(). Y aumenta contador.\n",
        "\n",
        "Se definió dos variables globales que se usarían tanto en la función postorden del nodo interno como en la función código, éstas son las variables lista y contador. Lista es una variable tal que se va agregando a ésta lista las operaciones deseadas, y con contador se va aumentando el número de operaciones y permite ponerles nombre.\n",
        "\n",
        "Se buscó una forma de que la variable \"t\" se fuera formateando y obteniendo distintos valores para ésta. Se usó la función .format(contador). Contador va en paréntesis de format ya que va cambiando con la cantidad de operaciones que se tiene.\n",
        "\n",
        "Para una lectura más fácil se definió v1=self.izq.postorden() y v2=self.der.postorden().\n",
        "\n",
        "La función total retorna variable, donde variable es \"t\"+ contador. Retorna variable ya que no es una variable global y además es lo que también se va agregando a la lista.\n",
        "\n",
        "En la función código se tiene dos variables globales también, éstas son lista y contador, además de una lista vacía que se va llenando con la función postorden de Nodo interno. Si la raíz no es un operador, es decir el árbol posee un solo Nodo, entonces retorna una lista que posee \"t1\"+\":\"+información del nodo, por el contrario si la raíz del árbol es una operación, es decir para cualquier caso con más de un nodo el árbol, entonces vuelve a Nodo interno, función postorden y llena la lista hasta obtener todos los pasos de la operación."
      ]
    },
    {
      "cell_type": "markdown",
      "metadata": {
        "id": "P1hiNRB86CqT",
        "colab_type": "text"
      },
      "source": [
        "## Discusión"
      ]
    },
    {
      "cell_type": "markdown",
      "metadata": {
        "id": "IdypC8Pa6CqT",
        "colab_type": "text"
      },
      "source": [
        "Suponga que hay escasez de variables temporales, así que se le ha pedido que trate de reciclarlas lo más posible, y solo crear nuevas variables ``ti`` cuando sea estrictamente necesario. Por ejemplo, para la fórmula\n",
        "\n",
        "```\n",
        "((a+b)*c)+((d-e)/f)\n",
        "```\n",
        "\n",
        "si generamos código como lo hemos hecho en los ejemplos anteriores (código de la izquierda), se usan 5 variables temporales, pero el código de la derecha muestra que se puede evaluar usando solo 2:\n",
        "\n",
        "```\n",
        "t1=a+b               t1=a+b\n",
        "t2=t1*c              t1=t1*c\n",
        "t3=d-e               t2=d-e\n",
        "t4=t3/f              t2=t2/f\n",
        "t5=t2+t4             t1=t1+t2\n",
        "```\n",
        "\n",
        "Discuta cómo se podría modificar su algoritmo para que (1) use menos variables temporales, y luego (2) para que use el mínimo posible de variables temporales.\n",
        "\n",
        "No es necesario que implemente nada, solo que discuta cómo se podría hacer."
      ]
    },
    {
      "cell_type": "markdown",
      "metadata": {
        "id": "D5NJ9ELz6_ti",
        "colab_type": "text"
      },
      "source": [
        "**RESPUESTA**\n",
        "\n",
        "Una forma para disminuir la cantidad de variables temporales que se obtiene es ir viendo en la operación obtenida si está la variable temporal anterior. Si en la nueva variable temporal, dentro de la operación está la variable temporal anterior, entonces en vez de cambiar el nombre de la variable, reemplazo el valor obtenido con la nueva operación y con el mismo valor de la variable temporal anterior, se guarda en una nueva.\n",
        "\n",
        "Por ejemplo:\n",
        "\n",
        "````\n",
        "((a+b)*c)+((d-e)/f)\n",
        "````\n",
        "\n",
        "\n",
        "* *t1: a+b*\n",
        "\n",
        "* t2: t1*c --> Se puede notar que dentro de ésta operación está la variable temporal anterior. Por lo tanto reemplazo su valor en la variable temporal anterior.\n",
        "\n",
        "  ---> **t1: t1xc**\n",
        "\n",
        "* *t2: d-e*\n",
        "\n",
        "* t3: t2/f --> Se puede notar que dentro de ésta operación está la variable temporal anterior. Por lo tanto reemplazo su valor en la variable temporal anterior.\n",
        "\n",
        "  ---> **t2: t2/f**\n",
        "\n",
        "* *t3: t1+t2*  --> Se puede notar que dentro de ésta operación está la variable temporal anterior. Por lo tanto reemplazo su valor en la primera variable temporal.\n",
        "\n",
        "  --->**t1: t1+t2**\n",
        "\n",
        "Otro ejemplo:\n",
        "\n",
        "````\n",
        "(a+(b+(c+(d+e))))\n",
        "````\n",
        "\n",
        "Se lee desde dentro de los paréntesis hacia afuera:\n",
        "\n",
        "* t1: d+e\n",
        "* t2: t1 +c --> Se puede observar que dentro de ésta variable está la variable temporal anterior --> t1: t1+c\n",
        "* t1 : t1+b (sucede lo mismo que en el punto anterior)\n",
        "* t1 : t1+a (sucede lo mismo que en punto ante-anterior)"
      ]
    },
    {
      "cell_type": "markdown",
      "metadata": {
        "id": "VsxLUqIS-CFO",
        "colab_type": "text"
      },
      "source": [
        "Para encontrar el mínimo se podría ver los dos paréntesis más grandes que estuviesen al lado de un operador (el operador es entre dos paréntesis lo más grande posible, operador entre medio). Esto es, si existe un paréntesis grande, operador, otro paréntesis grande, entonces la cantidad de variables temporales debería ser 2.\n",
        "\n",
        "Ejemplo:\n",
        "\n",
        "````\n",
        "((a+b)*c)+((d-e)/f)\n",
        "````\n",
        "\n",
        "En éste caso se pueden visualizar dos paréntesis \"grandes\", éstos son 1: ((a+b)*c) y 2: ((d-e)/f) y un operador + al medio, por lo tanto debiesen exitir dos variables temporales, éstas son:\n",
        "\n",
        "* t1: ((a+b)*c)\n",
        "* t2: ((d-e)/f)\n",
        "\n",
        "Juntamos ambas variables temporales en una:\n",
        "\n",
        "* t1: t1+t2\n",
        "\n",
        "\n",
        "Otro ejemplo:\n",
        "\n",
        "````\n",
        "(a+(b+(c+(d+e))))\n",
        "````\n",
        "En éste caso se puede visualizar que no existen paréntesis \"grandes\", donde al medio poseen un operador, por lo que en éste caso se tendría una variable temporal.\n",
        "\n",
        "* t1: (d+e)\n",
        "* t1: c+t1\n",
        "* t1: b+t1\n",
        "* t1: a+t1\n",
        "\n",
        "\n",
        "Otro ejemplo:\n",
        "\n",
        "````\n",
        "(2-p*q)*(1/n+1/(p+q))\n",
        "````\n",
        "\n",
        "En éste caso, se puede ver que se obtienen dos paréntesis grandes, donde al centro existe un operador, éstas son:\n",
        "\n",
        "* t1: (2-p*q)\n",
        "* t2: (1/n+1/(p+q))\n",
        "\n",
        "Juntamos ambas variables temporales en una:\n",
        "\n",
        "* t1: t1*t2"
      ]
    }
  ]
}